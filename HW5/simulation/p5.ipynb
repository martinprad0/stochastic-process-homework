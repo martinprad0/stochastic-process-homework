{
 "cells": [
  {
   "cell_type": "code",
   "execution_count": 159,
   "metadata": {},
   "outputs": [],
   "source": [
    "import sympy as sp\n",
    "from sympy import Matrix, print_latex\n",
    "from IPython.display import Math, display\n",
    "import scipy as sci\n",
    "import numpy as np\n",
    "import fractions"
   ]
  },
  {
   "cell_type": "code",
   "execution_count": 160,
   "metadata": {},
   "outputs": [
    {
     "name": "stdout",
     "output_type": "stream",
     "text": [
      "\\left[\\begin{matrix}1 & 0 & 0 & 0 & 0 & 0 & 0 & 0\\\\\\frac{6}{7} & 0 & \\frac{1}{7} & 0 & 0 & 0 & 0 & 0\\\\0 & \\frac{5}{7} & 0 & \\frac{2}{7} & 0 & 0 & 0 & 0\\\\0 & 0 & \\frac{4}{7} & 0 & \\frac{3}{7} & 0 & 0 & 0\\\\0 & 0 & 0 & \\frac{3}{7} & 0 & \\frac{4}{7} & 0 & 0\\\\0 & 0 & 0 & 0 & \\frac{2}{7} & 0 & \\frac{5}{7} & 0\\\\0 & 0 & 0 & 0 & 0 & \\frac{1}{7} & 0 & \\frac{6}{7}\\\\0 & 0 & 0 & 0 & 0 & 0 & 0 & 1\\end{matrix}\\right]\n"
     ]
    }
   ],
   "source": [
    "N = 7\n",
    "Pi = np.zeros([N+1,N+1])\n",
    "Pi[(0,N),(0,N)] = 1\n",
    "Pi[np.arange(1,N), np.arange(1,N)+1] = np.linspace(1/N,1-1/N, N-1)\n",
    "Pi[np.arange(1,N), np.arange(1,N)-1] = 1-np.linspace(1/N,1-1/N, N-1)\n",
    "print_latex((Matrix(Pi)**1).applyfunc(sp.nsimplify))\n",
    "A = np.where(np.diag(Pi) == 1)[0]"
   ]
  },
  {
   "cell_type": "code",
   "execution_count": 161,
   "metadata": {},
   "outputs": [
    {
     "name": "stdout",
     "output_type": "stream",
     "text": [
      "\\left[\\begin{matrix}1.0\\\\0.984375\\\\0.890625\\\\0.65625\\\\0.34375\\\\0.109375\\\\0.015625\\\\0\\end{matrix}\\right]\n",
      "\\left[\\begin{matrix}0\\\\0.015625\\\\0.109375\\\\0.34375\\\\0.65625\\\\0.890625\\\\0.984375\\\\1.0\\end{matrix}\\right]\n"
     ]
    },
    {
     "data": {
      "text/plain": [
       "{0: Matrix([\n",
       " [     1.0],\n",
       " [0.984375],\n",
       " [0.890625],\n",
       " [ 0.65625],\n",
       " [ 0.34375],\n",
       " [0.109375],\n",
       " [0.015625],\n",
       " [       0]]),\n",
       " 7: Matrix([\n",
       " [       0],\n",
       " [0.015625],\n",
       " [0.109375],\n",
       " [ 0.34375],\n",
       " [ 0.65625],\n",
       " [0.890625],\n",
       " [0.984375],\n",
       " [     1.0]])}"
      ]
     },
     "execution_count": 161,
     "metadata": {},
     "output_type": "execute_result"
    }
   ],
   "source": [
    "absorbing_probabilities = {}\n",
    "for l in A:\n",
    "    result = Matrix(Pi).applyfunc(sp.nsimplify).eigenvects()\n",
    "    vects = Matrix.hstack(*[info[2] for info in result if info[0] == 1][0])\n",
    "\n",
    "    frontierM = np.vstack([np.eye(N+1)[l]]+[np.eye(N+1)[k] for k in A if k != l])\n",
    "    frontierb = np.array([1]+[0]*(len(A)-1))\n",
    "\n",
    "    x = np.linalg.solve(np.matrix(frontierM@vects).astype(float), frontierb)\n",
    "    absorbing_probabilities[l] = Matrix(vects@x)\n",
    "    print_latex(Matrix(vects@x))\n",
    "absorbing_probabilities"
   ]
  },
  {
   "cell_type": "code",
   "execution_count": 162,
   "metadata": {},
   "outputs": [
    {
     "name": "stdout",
     "output_type": "stream",
     "text": [
      "\\left[\\begin{matrix}0\\\\1.5167\\\\3.6167\\\\5.3667\\\\5.3667\\\\3.6167\\\\1.5167\\\\0\\end{matrix}\\right]\n"
     ]
    },
    {
     "data": {
      "text/plain": [
       "array([0.        , 1.51666667, 3.61666667, 5.36666667, 5.36666667,\n",
       "       3.61666667, 1.51666667, 0.        ])"
      ]
     },
     "execution_count": 162,
     "metadata": {},
     "output_type": "execute_result"
    }
   ],
   "source": [
    "M = np.eye(N+1)-Pi\n",
    "M[A] = np.eye(N+1)[A]\n",
    "b = np.repeat(1, N+1)\n",
    "b[A] = 0\n",
    "times = np.linalg.solve(M,b)\n",
    "print_latex(Matrix(np.round(times,4)))\n",
    "times"
   ]
  }
 ],
 "metadata": {
  "kernelspec": {
   "display_name": "Python 3",
   "language": "python",
   "name": "python3"
  },
  "language_info": {
   "codemirror_mode": {
    "name": "ipython",
    "version": 3
   },
   "file_extension": ".py",
   "mimetype": "text/x-python",
   "name": "python",
   "nbconvert_exporter": "python",
   "pygments_lexer": "ipython3",
   "version": "3.12.2"
  }
 },
 "nbformat": 4,
 "nbformat_minor": 2
}
