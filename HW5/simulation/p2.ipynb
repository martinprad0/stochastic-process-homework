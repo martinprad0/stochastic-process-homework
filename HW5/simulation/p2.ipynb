{
 "cells": [
  {
   "cell_type": "code",
   "execution_count": 1,
   "metadata": {},
   "outputs": [],
   "source": [
    "import sympy as sp\n",
    "from sympy import Matrix, print_latex\n",
    "from IPython.display import Math, display\n",
    "import scipy as sci\n",
    "import numpy as np\n",
    "import fractions"
   ]
  },
  {
   "cell_type": "code",
   "execution_count": 37,
   "metadata": {},
   "outputs": [
    {
     "name": "stdout",
     "output_type": "stream",
     "text": [
      "\\left[\\begin{matrix}0 & \\frac{1}{2} & 0 & \\frac{1}{2} & 0 & 0\\\\0 & 0 & 1 & 0 & 0 & 0\\\\1 & 0 & 0 & 0 & 0 & 0\\\\0 & \\frac{1}{3} & \\frac{1}{3} & 0 & \\frac{1}{3} & 0\\\\0 & 0 & 0 & 0 & 0 & 1\\\\0 & 0 & 0 & 1 & 0 & 0\\end{matrix}\\right]\n"
     ]
    }
   ],
   "source": [
    "Pi = np.matrix([\n",
    "    [0, 1/2, 0, 1/2, 0, 0],\n",
    "    [0, 0, 1, 0, 0, 0],\n",
    "    [1 ,0 ,0 ,0 ,0 ,0],\n",
    "    [0, 1/3, 1/3, 0, 1/3, 0],\n",
    "    [0, 0, 0, 0, 0, 1],\n",
    "    [0, 0, 0, 1, 0, 0]\n",
    "])\n",
    "\n",
    "print_latex((Matrix(Pi)**1).applyfunc(sp.nsimplify))"
   ]
  },
  {
   "cell_type": "code",
   "execution_count": 16,
   "metadata": {},
   "outputs": [
    {
     "name": "stdout",
     "output_type": "stream",
     "text": [
      "\\left[\\begin{matrix}4\\\\2\\\\1\\\\4\\\\6\\\\5\\end{matrix}\\right]\n",
      "\\left[\\begin{matrix}\\frac{10}{3}\\\\\\frac{16}{3}\\\\\\frac{13}{3}\\\\\\frac{14}{3}\\\\\\frac{20}{3}\\\\\\frac{17}{3}\\end{matrix}\\right]\n",
      "\\left[\\begin{matrix}3\\\\1\\\\4\\\\3\\\\5\\\\4\\end{matrix}\\right]\n",
      "\\left[\\begin{matrix}4\\\\6\\\\5\\\\\\frac{16}{3}\\\\2\\\\1\\end{matrix}\\right]\n",
      "\\left[\\begin{matrix}18\\\\20\\\\19\\\\14\\\\16\\\\15\\end{matrix}\\right]\n",
      "\\left[\\begin{matrix}19\\\\21\\\\20\\\\15\\\\1\\\\16\\end{matrix}\\right]\n"
     ]
    }
   ],
   "source": [
    "for j in range(6):\n",
    "    times = Pi.copy()\n",
    "    times[:,j] = 0\n",
    "    mu_j = np.linalg.solve(np.eye(6)-times, np.repeat(1,6))\n",
    "    print_latex(Matrix(mu_j).applyfunc(sp.nsimplify))"
   ]
  },
  {
   "cell_type": "code",
   "execution_count": 49,
   "metadata": {},
   "outputs": [
    {
     "name": "stdout",
     "output_type": "stream",
     "text": [
      "\\left[\\begin{matrix}\\frac{1}{4} & \\frac{3}{16} & \\frac{1}{4} & \\frac{3}{16} & \\frac{1}{16} & \\frac{1}{16}\\end{matrix}\\right]\n"
     ]
    }
   ],
   "source": [
    "pi = Matrix(Pi).applyfunc(sp.nsimplify).left_eigenvects()[0][2][0]\n",
    "pi = pi / np.sum(pi)\n",
    "print_latex(pi)"
   ]
  }
 ],
 "metadata": {
  "kernelspec": {
   "display_name": "Python 3",
   "language": "python",
   "name": "python3"
  },
  "language_info": {
   "codemirror_mode": {
    "name": "ipython",
    "version": 3
   },
   "file_extension": ".py",
   "mimetype": "text/x-python",
   "name": "python",
   "nbconvert_exporter": "python",
   "pygments_lexer": "ipython3",
   "version": "3.12.2"
  }
 },
 "nbformat": 4,
 "nbformat_minor": 2
}
