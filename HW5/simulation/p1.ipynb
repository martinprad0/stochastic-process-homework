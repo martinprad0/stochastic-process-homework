{
 "cells": [
  {
   "cell_type": "code",
   "execution_count": 35,
   "metadata": {},
   "outputs": [],
   "source": [
    "import sympy as sp\n",
    "from sympy import Matrix, print_latex\n",
    "from IPython.display import Math, display\n",
    "import scipy as sci\n",
    "import numpy as np\n",
    "import fractions\n",
    "# np.set_printoptions(formatter={'all':lambda x: str(fractions.Fraction(x).limit_denominator())})"
   ]
  },
  {
   "cell_type": "code",
   "execution_count": 87,
   "metadata": {},
   "outputs": [
    {
     "data": {
      "text/latex": [
       "$\\displaystyle \\left[\\begin{matrix}0 & \\frac{1}{3} & 0 & 0 & \\frac{2}{3}\\\\\\frac{2}{3} & 0 & \\frac{1}{3} & 0 & 0\\\\0 & \\frac{2}{3} & 0 & \\frac{1}{3} & 0\\\\0 & 0 & \\frac{2}{3} & 0 & \\frac{1}{3}\\\\\\frac{1}{3} & 0 & 0 & \\frac{2}{3} & 0\\end{matrix}\\right]$"
      ],
      "text/plain": [
       "Matrix([\n",
       "[  0, 1/3,   0,   0, 2/3],\n",
       "[2/3,   0, 1/3,   0,   0],\n",
       "[  0, 2/3,   0, 1/3,   0],\n",
       "[  0,   0, 2/3,   0, 1/3],\n",
       "[1/3,   0,   0, 2/3,   0]])"
      ]
     },
     "execution_count": 87,
     "metadata": {},
     "output_type": "execute_result"
    }
   ],
   "source": [
    "Pi = np.matrix([\n",
    "    [0,     1/3,    0,      0,      2/3],\n",
    "    [2/3,   0,      1/3,    0,      0],\n",
    "    [0,     2/3,    0,      1/3,    0],\n",
    "    [0,     0,      2/3,    0,      1/3],\n",
    "    [1/3,   0,      0,      2/3,    0]\n",
    "])\n",
    "Pi = Matrix(Pi).applyfunc(sp.nsimplify)\n",
    "Pi"
   ]
  },
  {
   "cell_type": "code",
   "execution_count": 88,
   "metadata": {},
   "outputs": [
    {
     "data": {
      "text/latex": [
       "$\\displaystyle \\left[\\begin{matrix}\\frac{1}{5} & \\frac{1}{5} & \\frac{1}{5} & \\frac{1}{5} & \\frac{1}{5}\\end{matrix}\\right]$"
      ],
      "text/plain": [
       "Matrix([[1/5, 1/5, 1/5, 1/5, 1/5]])"
      ]
     },
     "execution_count": 88,
     "metadata": {},
     "output_type": "execute_result"
    }
   ],
   "source": [
    "pi = Pi.T.eigenvects()[0][2][0].T\n",
    "pi/np.sum(pi) * Pi"
   ]
  },
  {
   "cell_type": "code",
   "execution_count": 101,
   "metadata": {},
   "outputs": [
    {
     "data": {
      "text/latex": [
       "$\\displaystyle \\left[\\begin{matrix}1 & 0 & 0 & 0 & 0 & \\frac{1}{5}\\\\0 & 1 & 0 & 0 & 0 & \\frac{1}{5}\\\\0 & 0 & 1 & 0 & 0 & \\frac{1}{5}\\\\0 & 0 & 0 & 1 & 0 & \\frac{1}{5}\\\\0 & 0 & 0 & 0 & 1 & \\frac{1}{5}\\\\0 & 0 & 0 & 0 & 0 & 0\\end{matrix}\\right]$"
      ],
      "text/plain": [
       "Matrix([\n",
       "[1, 0, 0, 0, 0, 1/5],\n",
       "[0, 1, 0, 0, 0, 1/5],\n",
       "[0, 0, 1, 0, 0, 1/5],\n",
       "[0, 0, 0, 1, 0, 1/5],\n",
       "[0, 0, 0, 0, 1, 1/5],\n",
       "[0, 0, 0, 0, 0,   0]])"
      ]
     },
     "execution_count": 101,
     "metadata": {},
     "output_type": "execute_result"
    }
   ],
   "source": [
    "Matrix.vstack(Matrix.hstack(Pi-sp.eye(5), Matrix([0]*5)), Matrix([1]*6).T).rref()[0]"
   ]
  },
  {
   "cell_type": "code",
   "execution_count": 102,
   "metadata": {},
   "outputs": [
    {
     "data": {
      "text/latex": [
       "$\\displaystyle \\left[\\begin{matrix}\\frac{11}{81} & \\frac{40}{243} & \\frac{80}{243} & \\frac{10}{243} & \\frac{80}{243}\\\\\\frac{80}{243} & \\frac{11}{81} & \\frac{40}{243} & \\frac{80}{243} & \\frac{10}{243}\\\\\\frac{10}{243} & \\frac{80}{243} & \\frac{11}{81} & \\frac{40}{243} & \\frac{80}{243}\\\\\\frac{80}{243} & \\frac{10}{243} & \\frac{80}{243} & \\frac{11}{81} & \\frac{40}{243}\\\\\\frac{40}{243} & \\frac{80}{243} & \\frac{10}{243} & \\frac{80}{243} & \\frac{11}{81}\\end{matrix}\\right]$"
      ],
      "text/plain": [
       "Matrix([\n",
       "[ 11/81, 40/243, 80/243, 10/243, 80/243],\n",
       "[80/243,  11/81, 40/243, 80/243, 10/243],\n",
       "[10/243, 80/243,  11/81, 40/243, 80/243],\n",
       "[80/243, 10/243, 80/243,  11/81, 40/243],\n",
       "[40/243, 80/243, 10/243, 80/243,  11/81]])"
      ]
     },
     "execution_count": 102,
     "metadata": {},
     "output_type": "execute_result"
    }
   ],
   "source": [
    "Pi**5"
   ]
  }
 ],
 "metadata": {
  "kernelspec": {
   "display_name": "Python 3",
   "language": "python",
   "name": "python3"
  },
  "language_info": {
   "codemirror_mode": {
    "name": "ipython",
    "version": 3
   },
   "file_extension": ".py",
   "mimetype": "text/x-python",
   "name": "python",
   "nbconvert_exporter": "python",
   "pygments_lexer": "ipython3",
   "version": "3.12.2"
  }
 },
 "nbformat": 4,
 "nbformat_minor": 2
}
