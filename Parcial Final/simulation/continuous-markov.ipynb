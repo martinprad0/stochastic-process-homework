{
 "cells": [
  {
   "cell_type": "code",
   "execution_count": 423,
   "metadata": {},
   "outputs": [],
   "source": [
    "import sympy as sp\n",
    "import numpy as np\n",
    "import scipy as sci\n",
    "import matplotlib.pyplot as plt\n",
    "from math import pi, cos, sin\n",
    "golden_ratio = (1 + 5 ** 0.5) / 2"
   ]
  },
  {
   "cell_type": "code",
   "execution_count": 424,
   "metadata": {},
   "outputs": [],
   "source": [
    "exterior = [0,2,4,6,8]\n",
    "interior = [1,3,5,7,9]\n",
    "states = np.arange(10)"
   ]
  },
  {
   "cell_type": "code",
   "execution_count": 425,
   "metadata": {},
   "outputs": [
    {
     "name": "stdout",
     "output_type": "stream",
     "text": [
      "\\left[\\begin{matrix}0 & 1 & 0 & 0 & 0 & 0 & 0 & 0 & 0 & 1\\\\1 & 0 & 1 & 1 & 0 & 0 & 0 & 0 & 0 & 1\\\\0 & 1 & 0 & 1 & 0 & 0 & 0 & 0 & 0 & 0\\\\0 & 1 & 1 & 0 & 1 & 1 & 0 & 0 & 0 & 0\\\\0 & 0 & 0 & 1 & 0 & 1 & 0 & 0 & 0 & 0\\\\0 & 0 & 0 & 1 & 1 & 0 & 1 & 1 & 0 & 0\\\\0 & 0 & 0 & 0 & 0 & 1 & 0 & 1 & 0 & 0\\\\0 & 0 & 0 & 0 & 0 & 1 & 1 & 0 & 1 & 1\\\\0 & 0 & 0 & 0 & 0 & 0 & 0 & 1 & 0 & 1\\\\1 & 1 & 0 & 0 & 0 & 0 & 0 & 1 & 1 & 0\\end{matrix}\\right]\n"
     ]
    }
   ],
   "source": [
    "adjacency = np.zeros((10,10))\n",
    "for i in range(5):\n",
    "    adjacency[interior[i],interior[(i+1)%5]] += 1\n",
    "    adjacency[interior[i],exterior[i]] += 1\n",
    "    adjacency[interior[i],exterior[(i+1)%5]] += 1\n",
    "adjacency += adjacency.T\n",
    "\n",
    "sp.print_latex(sp.Matrix(adjacency.astype(int)))"
   ]
  },
  {
   "cell_type": "code",
   "execution_count": 426,
   "metadata": {},
   "outputs": [
    {
     "data": {
      "text/latex": [
       "$\\displaystyle \\left[\\begin{matrix}-1 & \\frac{1}{2} & 0 & 0 & 0 & 0 & 0 & 0 & 0 & \\frac{1}{2}\\\\\\frac{1}{2} & -2 & \\frac{1}{2} & \\frac{1}{2} & 0 & 0 & 0 & 0 & 0 & \\frac{1}{2}\\\\0 & \\frac{3}{2} & -3 & \\frac{3}{2} & 0 & 0 & 0 & 0 & 0 & 0\\\\0 & 1 & 1 & -4 & 1 & 1 & 0 & 0 & 0 & 0\\\\0 & 0 & 0 & \\frac{5}{2} & -5 & \\frac{5}{2} & 0 & 0 & 0 & 0\\\\0 & 0 & 0 & \\frac{3}{2} & \\frac{3}{2} & -6 & \\frac{3}{2} & \\frac{3}{2} & 0 & 0\\\\0 & 0 & 0 & 0 & 0 & \\frac{7}{2} & -7 & \\frac{7}{2} & 0 & 0\\\\0 & 0 & 0 & 0 & 0 & 2 & 2 & -8 & 2 & 2\\\\0 & 0 & 0 & 0 & 0 & 0 & 0 & \\frac{9}{2} & -9 & \\frac{9}{2}\\\\\\frac{5}{2} & \\frac{5}{2} & 0 & 0 & 0 & 0 & 0 & \\frac{5}{2} & \\frac{5}{2} & -10\\end{matrix}\\right]$"
      ],
      "text/plain": [
       "Matrix([\n",
       "[ -1, 1/2,   0,   0,   0,   0,   0,   0,   0, 1/2],\n",
       "[1/2,  -2, 1/2, 1/2,   0,   0,   0,   0,   0, 1/2],\n",
       "[  0, 3/2,  -3, 3/2,   0,   0,   0,   0,   0,   0],\n",
       "[  0,   1,   1,  -4,   1,   1,   0,   0,   0,   0],\n",
       "[  0,   0,   0, 5/2,  -5, 5/2,   0,   0,   0,   0],\n",
       "[  0,   0,   0, 3/2, 3/2,  -6, 3/2, 3/2,   0,   0],\n",
       "[  0,   0,   0,   0,   0, 7/2,  -7, 7/2,   0,   0],\n",
       "[  0,   0,   0,   0,   0,   2,   2,  -8,   2,   2],\n",
       "[  0,   0,   0,   0,   0,   0,   0, 9/2,  -9, 9/2],\n",
       "[5/2, 5/2,   0,   0,   0,   0,   0, 5/2, 5/2, -10]])"
      ]
     },
     "execution_count": 426,
     "metadata": {},
     "output_type": "execute_result"
    }
   ],
   "source": [
    "holding_rates = np.array([i+1 for i in range(10)])\n",
    "Q_matrix = -np.diag(holding_rates).astype(float)\n",
    "Q_matrix += adjacency * (holding_rates / adjacency.sum(axis=1))[:,None]\n",
    "\n",
    "sp.nsimplify(sp.Matrix(Q_matrix), tolerance=0.001, rational=True)"
   ]
  },
  {
   "cell_type": "code",
   "execution_count": 427,
   "metadata": {},
   "outputs": [
    {
     "name": "stdout",
     "output_type": "stream",
     "text": [
      "\\left[\\begin{matrix}0 & \\frac{1}{2} & 0 & 0 & 0 & 0 & 0 & 0 & 0 & \\frac{1}{2}\\\\\\frac{1}{4} & 0 & \\frac{1}{4} & \\frac{1}{4} & 0 & 0 & 0 & 0 & 0 & \\frac{1}{4}\\\\0 & \\frac{1}{2} & 0 & \\frac{1}{2} & 0 & 0 & 0 & 0 & 0 & 0\\\\0 & \\frac{1}{4} & \\frac{1}{4} & 0 & \\frac{1}{4} & \\frac{1}{4} & 0 & 0 & 0 & 0\\\\0 & 0 & 0 & \\frac{1}{2} & 0 & \\frac{1}{2} & 0 & 0 & 0 & 0\\\\0 & 0 & 0 & \\frac{1}{4} & \\frac{1}{4} & 0 & \\frac{1}{4} & \\frac{1}{4} & 0 & 0\\\\0 & 0 & 0 & 0 & 0 & \\frac{1}{2} & 0 & \\frac{1}{2} & 0 & 0\\\\0 & 0 & 0 & 0 & 0 & \\frac{1}{4} & \\frac{1}{4} & 0 & \\frac{1}{4} & \\frac{1}{4}\\\\0 & 0 & 0 & 0 & 0 & 0 & 0 & \\frac{1}{2} & 0 & \\frac{1}{2}\\\\\\frac{1}{4} & \\frac{1}{4} & 0 & 0 & 0 & 0 & 0 & \\frac{1}{4} & \\frac{1}{4} & 0\\end{matrix}\\right]\n"
     ]
    }
   ],
   "source": [
    "jump_matrix = adjacency / adjacency.sum(axis=1)[:,None]\n",
    "sp.print_latex(sp.nsimplify(sp.Matrix(jump_matrix), tolerance=0.001, rational=True))"
   ]
  },
  {
   "cell_type": "code",
   "execution_count": 428,
   "metadata": {},
   "outputs": [
    {
     "data": {
      "text/latex": [
       "$\\displaystyle \\left[\\begin{matrix}\\frac{1}{15} & \\frac{2}{15} & \\frac{1}{15} & \\frac{2}{15} & \\frac{1}{15} & \\frac{2}{15} & \\frac{1}{15} & \\frac{2}{15} & \\frac{1}{15} & \\frac{2}{15}\\end{matrix}\\right]$"
      ],
      "text/plain": [
       "Matrix([[1/15, 2/15, 1/15, 2/15, 1/15, 2/15, 1/15, 2/15, 1/15, 2/15]])"
      ]
     },
     "metadata": {},
     "output_type": "display_data"
    }
   ],
   "source": [
    "desired_eigenvalue = 0\n",
    "def get_left_eigenvector(matrix, desired_eigenvalue):\n",
    "    eigenvalues, multiplicity, eigenvectors = list(zip(*sp.Matrix(matrix.T).eigenvects()))\n",
    "\n",
    "    solution_index = np.argmin(np.abs(desired_eigenvalue - np.array(eigenvalues)))\n",
    "    solution = eigenvectors[solution_index][0]\n",
    "    solution = solution / sum(solution)\n",
    "    return sp.nsimplify(solution.T.simplify(), tolerance=0.0001, rational= True)\n",
    "    \n",
    "mu_invariant = get_left_eigenvector(jump_matrix, 1)\n",
    "display(mu_invariant)\n",
    "mu_invariant = np.array(mu_invariant).astype(float)[0]"
   ]
  },
  {
   "cell_type": "code",
   "execution_count": 429,
   "metadata": {},
   "outputs": [
    {
     "data": {
      "text/latex": [
       "$\\displaystyle \\left[\\begin{matrix}\\frac{1260}{5129} & \\frac{1260}{5129} & \\frac{420}{5129} & \\frac{630}{5129} & \\frac{252}{5129} & \\frac{420}{5129} & \\frac{180}{5129} & \\frac{315}{5129} & \\frac{140}{5129} & \\frac{252}{5129}\\end{matrix}\\right]$"
      ],
      "text/plain": [
       "Matrix([[1260/5129, 1260/5129, 420/5129, 630/5129, 252/5129, 420/5129, 180/5129, 315/5129, 140/5129, 252/5129]])"
      ]
     },
     "metadata": {},
     "output_type": "display_data"
    }
   ],
   "source": [
    "lambda_invariant = get_left_eigenvector(Q_matrix, 0)\n",
    "display(lambda_invariant)\n",
    "lambda_invariant = np.array(lambda_invariant).astype(float)[0]"
   ]
  },
  {
   "cell_type": "code",
   "execution_count": 430,
   "metadata": {},
   "outputs": [],
   "source": [
    "P_matrix = sci.linalg.expm(Q_matrix)\n",
    "lambda_invariant_1 = get_left_eigenvector(P_matrix, 1)"
   ]
  },
  {
   "cell_type": "code",
   "execution_count": 431,
   "metadata": {},
   "outputs": [
    {
     "data": {
      "text/latex": [
       "$\\displaystyle \\left[\\begin{matrix}0 & \\frac{1}{2} & 0 & 0 & 0 & 0 & 0 & 0 & 0 & \\frac{1}{2}\\\\\\frac{1}{8} & \\frac{1}{2} & \\frac{1}{8} & \\frac{1}{8} & 0 & 0 & 0 & 0 & 0 & \\frac{1}{8}\\\\0 & \\frac{1}{6} & \\frac{2}{3} & \\frac{1}{6} & 0 & 0 & 0 & 0 & 0 & 0\\\\0 & \\frac{1}{16} & \\frac{1}{16} & \\frac{3}{4} & \\frac{1}{16} & \\frac{1}{16} & 0 & 0 & 0 & 0\\\\0 & 0 & 0 & \\frac{1}{10} & \\frac{4}{5} & \\frac{1}{10} & 0 & 0 & 0 & 0\\\\0 & 0 & 0 & \\frac{1}{24} & \\frac{1}{24} & \\frac{5}{6} & \\frac{1}{24} & \\frac{1}{24} & 0 & 0\\\\0 & 0 & 0 & 0 & 0 & \\frac{1}{14} & \\frac{6}{7} & \\frac{1}{14} & 0 & 0\\\\0 & 0 & 0 & 0 & 0 & \\frac{1}{32} & \\frac{1}{32} & \\frac{7}{8} & \\frac{1}{32} & \\frac{1}{32}\\\\0 & 0 & 0 & 0 & 0 & 0 & 0 & \\frac{1}{18} & \\frac{8}{9} & \\frac{1}{18}\\\\\\frac{1}{40} & \\frac{1}{40} & 0 & 0 & 0 & 0 & 0 & \\frac{1}{40} & \\frac{1}{40} & \\frac{9}{10}\\end{matrix}\\right]$"
      ],
      "text/plain": [
       "Matrix([\n",
       "[   0,  1/2,    0,    0,    0,    0,    0,    0,    0,  1/2],\n",
       "[ 1/8,  1/2,  1/8,  1/8,    0,    0,    0,    0,    0,  1/8],\n",
       "[   0,  1/6,  2/3,  1/6,    0,    0,    0,    0,    0,    0],\n",
       "[   0, 1/16, 1/16,  3/4, 1/16, 1/16,    0,    0,    0,    0],\n",
       "[   0,    0,    0, 1/10,  4/5, 1/10,    0,    0,    0,    0],\n",
       "[   0,    0,    0, 1/24, 1/24,  5/6, 1/24, 1/24,    0,    0],\n",
       "[   0,    0,    0,    0,    0, 1/14,  6/7, 1/14,    0,    0],\n",
       "[   0,    0,    0,    0,    0, 1/32, 1/32,  7/8, 1/32, 1/32],\n",
       "[   0,    0,    0,    0,    0,    0,    0, 1/18,  8/9, 1/18],\n",
       "[1/40, 1/40,    0,    0,    0,    0,    0, 1/40, 1/40, 9/10]])"
      ]
     },
     "execution_count": 431,
     "metadata": {},
     "output_type": "execute_result"
    }
   ],
   "source": [
    "transition_matrix = np.diag(1-1/holding_rates)\n",
    "transition_matrix += jump_matrix * (1/holding_rates)[:,None]\n",
    "sp.nsimplify(sp.Matrix(transition_matrix), tolerance=0.001, rational=True)"
   ]
  },
  {
   "cell_type": "code",
   "execution_count": 432,
   "metadata": {},
   "outputs": [
    {
     "data": {
      "text/latex": [
       "$\\displaystyle \\left[\\begin{matrix}\\frac{1}{85} & \\frac{4}{85} & \\frac{3}{85} & \\frac{8}{85} & \\frac{1}{17} & \\frac{12}{85} & \\frac{7}{85} & \\frac{16}{85} & \\frac{9}{85} & \\frac{4}{17}\\end{matrix}\\right]$"
      ],
      "text/plain": [
       "Matrix([[1/85, 4/85, 3/85, 8/85, 1/17, 12/85, 7/85, 16/85, 9/85, 4/17]])"
      ]
     },
     "metadata": {},
     "output_type": "display_data"
    }
   ],
   "source": [
    "transition_invariant = get_left_eigenvector(transition_matrix, 1)\n",
    "display(transition_invariant)\n",
    "transition_invariant = np.array(transition_invariant).astype(float)[0]"
   ]
  },
  {
   "cell_type": "code",
   "execution_count": 433,
   "metadata": {},
   "outputs": [],
   "source": [
    "T = 100 # max time\n",
    "N = 100 # number of trajectories"
   ]
  },
  {
   "cell_type": "code",
   "execution_count": 434,
   "metadata": {},
   "outputs": [],
   "source": [
    "trajectories = []\n",
    "for trajectory_index in range(N):\n",
    "    current_time = 0\n",
    "    time_list = [current_time]\n",
    "    state_list = [5]# [np.random.choice(states, p=mu_invariant)]\n",
    "\n",
    "    while current_time < T:\n",
    "        current_state = state_list[-1]\n",
    "        current_rate = holding_rates[current_state]\n",
    "        current_time += np.random.exponential(scale=1/holding_rates[current_state])\n",
    "        time_list.append(current_time)\n",
    "        next_state = np.random.choice(states, p=jump_matrix[current_state])\n",
    "        state_list.append(next_state)\n",
    "    state_list = np.array(state_list)\n",
    "    time_list = np.array(time_list)\n",
    "    trajectories.append((time_list, state_list))"
   ]
  },
  {
   "cell_type": "code",
   "execution_count": 435,
   "metadata": {},
   "outputs": [],
   "source": [
    "def get_visit_frequency(trajectory):\n",
    "    trajectory = trajectories[0]\n",
    "    time_list, state_list = trajectory\n",
    "    state_list = state_list[:-1]\n",
    "    values, indices, counts = np.unique(state_list[state_list.argsort()], return_counts=True, return_index=True)\n",
    "    \n",
    "    visit_frequency = counts/counts.sum()\n",
    "    return visit_frequency\n",
    "\n",
    "def get_average_visit_length(trajectory):\n",
    "    trajectory = trajectories[0]\n",
    "    time_list, state_list = trajectory\n",
    "    state_list = state_list[:-1]\n",
    "    visit_lengths = time_list[1:] - time_list[:-1]\n",
    "    values, indices, counts = np.unique(state_list[state_list.argsort()], return_counts=True, return_index=True)\n",
    "    visit_times_grouped = np.split(time_list[:-1][state_list.argsort()], indices)[1:] \n",
    "    visit_times_grouped = [np.sort(visit_times_grouped[k]) for k in range(10)]\n",
    "    visit_lengths_grouped = np.split(visit_lengths[state_list.argsort()], indices)[1:] \n",
    "\n",
    "    average_visit_length = np.array([visit_lengths_grouped[k].mean() for k in range(10)])\n",
    "    return average_visit_length\n",
    "\n",
    "def get_average_excursion_length(trajectory):\n",
    "    time_list, state_list = trajectory\n",
    "    state_list = state_list[:-1]\n",
    "    visit_lengths = time_list[1:] - time_list[:-1]\n",
    "    values, indices, counts = np.unique(state_list[state_list.argsort()], return_counts=True, return_index=True)\n",
    "\n",
    "    visit_times_grouped = np.split(time_list[:-1][state_list.argsort()], indices)[1:] \n",
    "    visit_times_grouped = [np.sort(visit_times_grouped[k]) for k in range(10)]\n",
    "    excursion_lengths_grouped = [visit_times_grouped[k][1:]- visit_times_grouped[k][:-1] for k in range(10)]\n",
    "\n",
    "    average_excursion_length = np.array([excursion_lengths_grouped[k].mean() for k in range(10)])\n",
    "    return average_excursion_length"
   ]
  },
  {
   "cell_type": "code",
   "execution_count": 436,
   "metadata": {},
   "outputs": [
    {
     "data": {
      "text/plain": [
       "[Text(0.175, 0, '0'),\n",
       " Text(1.175, 0, '1'),\n",
       " Text(2.175, 0, '2'),\n",
       " Text(3.175, 0, '3'),\n",
       " Text(4.175, 0, '4'),\n",
       " Text(5.175, 0, '5'),\n",
       " Text(6.175, 0, '6'),\n",
       " Text(7.175, 0, '7'),\n",
       " Text(8.175, 0, '8'),\n",
       " Text(9.175, 0, '9')]"
      ]
     },
     "execution_count": 436,
     "metadata": {},
     "output_type": "execute_result"
    },
    {
     "data": {
      "image/png": "[encoded data removed]",
      "text/plain": [
       "<Figure size 640x480 with 1 Axes>"
      ]
     },
     "metadata": {},
     "output_type": "display_data"
    }
   ],
   "source": [
    "visit_frequencies = np.array([get_visit_frequency(trajectory) for trajectory in trajectories])\n",
    "average_visit_frequency = visit_frequencies.mean(axis = 0)\n",
    "\n",
    "bar_width = 0.35\n",
    "x = range(len(average_visit_frequency))\n",
    "\n",
    "fig, ax = plt.subplots()\n",
    "bar1 = ax.bar(x, average_visit_frequency, bar_width, label=r'$\\hat{\\mu}_i = \\frac{1}{m}\\sum_{j = 0}^{m} 1(X^j = i)$')\n",
    "bar2 = ax.bar([i + bar_width for i in x], mu_invariant, bar_width, label=r\"$\\mu_i$\")\n",
    "\n",
    "ax.set_xticks([i + bar_width / 2 for i in x])\n",
    "ax.set_xticklabels([str(i) for i in range(len(average_visit_frequency))])"
   ]
  },
  {
   "cell_type": "code",
   "execution_count": 437,
   "metadata": {},
   "outputs": [
    {
     "data": {
      "text/plain": [
       "<matplotlib.legend.Legend at 0x7f0d8e1543b0>"
      ]
     },
     "execution_count": 437,
     "metadata": {},
     "output_type": "execute_result"
    },
    {
     "data": {
      "image/png": "[encoded data removed]",
      "text/plain": [
       "<Figure size 640x480 with 1 Axes>"
      ]
     },
     "metadata": {},
     "output_type": "display_data"
    }
   ],
   "source": [
    "average_visit_length = np.array([get_average_visit_length(trajectory) for trajectory in trajectories]).mean(axis = 0)\n",
    "expected_visit_lengths = [1/holding_rates[k] for k in range(10)]\n",
    "bar_width = 0.35\n",
    "x = range(len(average_visit_length))\n",
    "\n",
    "fig, ax = plt.subplots()\n",
    "bar1 = ax.bar(x, average_visit_length, bar_width, label=r'$\\dfrac{1}{n}\\sum_{k = 1}^n M_i^k$')\n",
    "bar2 = ax.bar([i + bar_width for i in x], expected_visit_lengths, bar_width, label=r\"$\\dfrac{1}{q_i}$\")\n",
    "\n",
    "ax.set_xticks([i + bar_width / 2 for i in x])\n",
    "ax.set_xticklabels([str(i) for i in range(len(average_visit_length))])\n",
    "ax.legend()"
   ]
  },
  {
   "cell_type": "code",
   "execution_count": 438,
   "metadata": {},
   "outputs": [
    {
     "data": {
      "text/plain": [
       "<matplotlib.legend.Legend at 0x7f0d8df02cc0>"
      ]
     },
     "execution_count": 438,
     "metadata": {},
     "output_type": "execute_result"
    },
    {
     "data": {
      "image/png": "[encoded data removed]",
      "text/plain": [
       "<Figure size 640x480 with 1 Axes>"
      ]
     },
     "metadata": {},
     "output_type": "display_data"
    }
   ],
   "source": [
    "lambda_estimated_1 = average_visit_frequency*average_visit_length\n",
    "lambda_estimated_1 = lambda_estimated_1 / lambda_estimated_1.sum()\n",
    "\n",
    "bar_width = 0.35\n",
    "x = range(len(lambda_estimated_1))\n",
    "\n",
    "fig, ax = plt.subplots()\n",
    "bar1 = ax.bar(x, lambda_estimated_1, bar_width, label=r'$\\hat{\\lambda}_i$')\n",
    "bar2 = ax.bar([i + bar_width for i in x], lambda_invariant, bar_width, label=r\"$\\lambda_i$\")\n",
    "\n",
    "ax.set_xticks([i + bar_width / 2 for i in x])\n",
    "ax.set_xticklabels([str(i) for i in range(len(lambda_estimated_1))])\n",
    "ax.legend()"
   ]
  },
  {
   "cell_type": "code",
   "execution_count": 439,
   "metadata": {},
   "outputs": [
    {
     "data": {
      "text/plain": [
       "<matplotlib.legend.Legend at 0x7f0d8e053b90>"
      ]
     },
     "execution_count": 439,
     "metadata": {},
     "output_type": "execute_result"
    },
    {
     "data": {
      "image/png": "[encoded data removed]",
      "text/plain": [
       "<Figure size 640x480 with 1 Axes>"
      ]
     },
     "metadata": {},
     "output_type": "display_data"
    }
   ],
   "source": [
    "average_excursion_length = np.array([get_average_excursion_length(trajectory) for trajectory in trajectories]).mean(axis = 0)\n",
    "\n",
    "lambda_estimated_2 = average_visit_length/average_excursion_length\n",
    "\n",
    "bar_width = 0.35\n",
    "x = range(len(lambda_estimated_2))\n",
    "\n",
    "fig, ax = plt.subplots()\n",
    "bar1 = ax.bar(x, lambda_estimated_2, bar_width, label=r'$\\hat{\\lambda}_i$')\n",
    "bar2 = ax.bar([i + bar_width for i in x], lambda_invariant, bar_width, label=r\"$\\lambda_i$\")\n",
    "\n",
    "ax.set_xticks([i + bar_width / 2 for i in x])\n",
    "ax.set_xticklabels([str(i) for i in range(len(lambda_estimated_2))])\n",
    "ax.legend()"
   ]
  },
  {
   "cell_type": "code",
   "execution_count": 520,
   "metadata": {},
   "outputs": [],
   "source": [
    "T = 1000 # max time\n",
    "N = 100 # number of trajectories\n",
    "trajectories = []\n",
    "\n",
    "for trajectory_index in range(N): # simulating N trajectories\n",
    "    state_list = [np.random.choice(states, p=transition_invariant)]\n",
    "    for t in range(T):\n",
    "        current_state = state_list[-1]\n",
    "        next_state = np.random.choice(states, p=transition_matrix[current_state])\n",
    "        state_list.append(next_state)\n",
    "    state_list = np.array(state_list)\n",
    "    trajectories.append(state_list)"
   ]
  },
  {
   "cell_type": "code",
   "execution_count": 521,
   "metadata": {},
   "outputs": [
    {
     "data": {
      "text/plain": [
       "<matplotlib.legend.Legend at 0x7f0d8de5acc0>"
      ]
     },
     "execution_count": 521,
     "metadata": {},
     "output_type": "execute_result"
    },
    {
     "data": {
      "image/png": "[encoded data removed]",
      "text/plain": [
       "<Figure size 640x480 with 1 Axes>"
      ]
     },
     "metadata": {},
     "output_type": "display_data"
    }
   ],
   "source": [
    "visit_frequencies = []\n",
    "for k in range(N):\n",
    "    state_list = trajectories[k][:-1]\n",
    "    values, indices, counts = np.unique(state_list[state_list.argsort()], return_counts=True, return_index=True)\n",
    "    visit_frequency = np.zeros((10,))\n",
    "    visit_frequency[values] = counts\n",
    "    visit_frequencies.append(visit_frequency)\n",
    "average_visit_frequency = np.array(visit_frequencies).mean(axis = 0)\n",
    "average_visit_frequency = average_visit_frequency/average_visit_frequency.sum()\n",
    "\n",
    "bar_width = 0.35\n",
    "x = range(len(average_visit_frequency))\n",
    "\n",
    "fig, ax = plt.subplots()\n",
    "bar1 = ax.bar(x, average_visit_frequency, bar_width, label=r'$\\hat{\\nu}_i = \\frac{1}{m}\\sum_{j = 0}^{m} 1(X^j = i)$')\n",
    "bar2 = ax.bar([i + bar_width for i in x], transition_invariant, bar_width, label=r\"$\\nu_i$\")\n",
    "\n",
    "ax.set_xticks([i + bar_width / 2 for i in x])\n",
    "ax.set_xticklabels([str(i) for i in range(len(average_visit_frequency))])\n",
    "ax.legend()"
   ]
  }
 ],
 "metadata": {
  "kernelspec": {
   "display_name": "Python 3",
   "language": "python",
   "name": "python3"
  },
  "language_info": {
   "codemirror_mode": {
    "name": "ipython",
    "version": 3
   },
   "file_extension": ".py",
   "mimetype": "text/x-python",
   "name": "python",
   "nbconvert_exporter": "python",
   "pygments_lexer": "ipython3",
   "version": "3.12.2"
  }
 },
 "nbformat": 4,
 "nbformat_minor": 2
}
