{
 "cells": [
  {
   "cell_type": "code",
   "execution_count": 62,
   "metadata": {},
   "outputs": [],
   "source": [
    "import sympy as sp\n",
    "import numpy as np\n",
    "a,b,c,d,e  = sp.symbols(r\"\\alpha \\beta \\gamma \\delta \\varepsilon\", real = True)\n",
    "a = 1\n",
    "c = 1\n",
    "Gamma = np.matrix([\n",
    "    [a, 1-a, 0, 0 ,0],\n",
    "    [0, b, 1-b-e, 0, e],\n",
    "    [1-c-d, 0, c, d, 0],\n",
    "    [0, 0, 0, 1, 0],\n",
    "    [0, 0, 0, 0, 1]\n",
    "])\n",
    "M = [k for k in range(5) if Gamma[k,k]==1]\n",
    "l = 4\n",
    "symbols = [a,b,c,d,e]\n",
    "\n",
    "\n",
    "\n",
    "Id = np.eye(5)\n",
    "B = Id-Gamma\n",
    "B[M] = np.eye(5)[M]\n",
    "b = 1-np.sum(np.matrix(np.eye(5)[:,M]), axis = 1)\n",
    "solution = sp.Matrix(np.hstack([B,b])).rref()[0].col(5)"
   ]
  },
  {
   "cell_type": "code",
   "execution_count": 63,
   "metadata": {},
   "outputs": [
    {
     "data": {
      "text/latex": [
       "$\\displaystyle \\left[\\begin{matrix}0\\\\- \\frac{1}{\\beta - 1}\\\\0\\\\0\\\\0\\end{matrix}\\right]$"
      ],
      "text/plain": [
       "Matrix([\n",
       "[             0],\n",
       "[-1/(\\beta - 1)],\n",
       "[             0],\n",
       "[             0],\n",
       "[             0]])"
      ]
     },
     "execution_count": 63,
     "metadata": {},
     "output_type": "execute_result"
    }
   ],
   "source": [
    "sp.Matrix([sp.factor(sp.nsimplify(solution[k])) for k in range(5)])"
   ]
  },
  {
   "cell_type": "code",
   "execution_count": 64,
   "metadata": {},
   "outputs": [
    {
     "name": "stdout",
     "output_type": "stream",
     "text": [
      "\\left[\\begin{matrix}0\\\\- \\frac{1}{\\beta - 1}\\\\0\\\\0\\\\0\\end{matrix}\\right]\n"
     ]
    }
   ],
   "source": [
    "sp.print_latex(sp.Matrix([sp.factor(sp.nsimplify(solution[k])) for k in range(5)]))"
   ]
  }
 ],
 "metadata": {
  "kernelspec": {
   "display_name": "Python 3",
   "language": "python",
   "name": "python3"
  },
  "language_info": {
   "codemirror_mode": {
    "name": "ipython",
    "version": 3
   },
   "file_extension": ".py",
   "mimetype": "text/x-python",
   "name": "python",
   "nbconvert_exporter": "python",
   "pygments_lexer": "ipython3",
   "version": "3.12.2"
  }
 },
 "nbformat": 4,
 "nbformat_minor": 2
}
