{
 "cells": [
  {
   "cell_type": "code",
   "execution_count": 934,
   "metadata": {},
   "outputs": [],
   "source": [
    "import numpy as np\n",
    "import fractions\n",
    "import sys\n",
    "import matplotlib.pyplot as plt\n",
    "from IPython.display import clear_output\n",
    "from ipywidgets import Button, GridBox, ButtonStyle, Layout, HBox, VBox\n",
    "from netgraph import Graph\n",
    "import os.path\n",
    "np.set_printoptions(threshold=sys.maxsize)\n",
    "# np.set_printoptions(formatter={'all':lambda x: str(fractions.Fraction(x).limit_denominator())})"
   ]
  },
  {
   "cell_type": "code",
   "execution_count": 935,
   "metadata": {},
   "outputs": [],
   "source": [
    "N = 7\n",
    "START_POSITION = 24\n",
    "END_POSITION1 = 6\n",
    "END_POSITION2 = 48\n",
    "END_POSITION = [END_POSITION1, END_POSITION2]\n",
    "\n",
    "time_labels = False\n",
    "absorption_labels = False"
   ]
  },
  {
   "cell_type": "code",
   "execution_count": 936,
   "metadata": {},
   "outputs": [],
   "source": [
    "horizontal_walls = (np.array(sum([[k+l*N for k in range(N-1)] for l in range(N)], [])),\n",
    "np.array(sum([[l*N+k+1 for k in range(N-1)] for l in range(N)], [])))\n",
    "vertical_walls = (np.array(sum([[k+l*N for k in range(N)] for l in range(N-1)], [])),\n",
    "np.array(sum([[k+l*N+N for k in range(N)] for l in range(N-1)], [])))\n",
    "\n",
    "if os.path.isfile(f\"graph_matrix{N}.npy\"):\n",
    "    graph_matrix = np.load(f\"graph_matrix{N}.npy\")\n",
    "else:\n",
    "    graph_matrix = np.zeros([N**2,N**2])\n",
    "    graph_matrix[horizontal_walls] = 1\n",
    "    graph_matrix[vertical_walls] = 1\n",
    "    graph_matrix = (graph_matrix + graph_matrix.T).astype(int)\n",
    "\n",
    "def get_transition_matrix(graph_matrix):\n",
    "    transition_matrix = (graph_matrix.T/graph_matrix.sum(1)).T\n",
    "    transition_matrix[END_POSITION] = 0\n",
    "    transition_matrix[END_POSITION,END_POSITION] = 1\n",
    "    return transition_matrix\n",
    "\n",
    "def get_absorption_probability(transition_matrix):\n",
    "    try:\n",
    "        system = transition_matrix-np.eye(N**2)\n",
    "        system[END_POSITION] = np.eye(N**2)[END_POSITION]\n",
    "        return np.array([np.linalg.solve(system, np.eye(N**2)[position]) for position in END_POSITION]).T\n",
    "    except:\n",
    "        return np.linalg.matrix_power(transition_matrix,10000)[END_POSITION].T\n",
    "\n",
    "def get_absorption_time(transition_matrix):\n",
    "    try:\n",
    "        temp = transition_matrix.copy()\n",
    "        temp[:,[END_POSITION]] = 0\n",
    "        b = [0 if k in END_POSITION else 1 for k in range(N**2)]\n",
    "        A = np.eye(N**2)-temp\n",
    "        return (np.linalg.inv(A)@b)\n",
    "    except:\n",
    "        return np.repeat(np.nan, (N**2))"
   ]
  },
  {
   "cell_type": "code",
   "execution_count": 937,
   "metadata": {},
   "outputs": [],
   "source": [
    "def to_position(k):\n",
    "    return np.array([k%N, (N-1)-(k-k%N)/N])\n",
    "\n",
    "layout = {k:np.array(to_position(k)) for k in range(N**2)}\n",
    "\n",
    "def plot_labyrinth(graph_matrix, layout, time_labels = False, absorption_labels = False, walls = True, edge_width = 1):\n",
    "    clear_output(wait=True)\n",
    "\n",
    "    transition_matrix = get_transition_matrix(graph_matrix)\n",
    "    absorption_probability = get_absorption_probability(transition_matrix)\n",
    "    absorption_time = get_absorption_time(transition_matrix)\n",
    "    \n",
    "    sources, targets = np.where(graph_matrix)\n",
    "    weights = graph_matrix[sources, targets]\n",
    "    edges = list(zip(sources, targets))\n",
    "    # edge_labels = dict(zip(edges, weights))\n",
    "    fig, ax = plt.subplots()\n",
    "    Graph(edges, edge_label_position=0.5, edge_width = edge_width, edge_label_fontdict=dict(size=10, fontweight='bold'),\n",
    "            arrows=True, ax=ax, node_layout = layout)\n",
    "    \n",
    "    for k in range(N**2):\n",
    "        color = \"green\" if k == START_POSITION else \"deeppink\" if k == END_POSITION1 else \"red\" if k == END_POSITION2 else \"black\"\n",
    "        ax.text(*to_position(k)+np.array([-0.05,-0.05]), f\"{k}\", color = color)\n",
    "        expected_absorption = absorption_time[k]\n",
    "        if time_labels:\n",
    "            ax.text(*to_position(k)+np.array([-0.15,0.3]), f\"{expected_absorption:.1f}\", color = color, fontsize=7)\n",
    "        if absorption_labels:\n",
    "            ax.text(*to_position(k)+np.array([-0.2,0.25]), f\"{absorption_probability[k,0]:.2f}\", color = \"deeppink\", fontsize=7)\n",
    "            ax.text(*to_position(k)+np.array([-0.2,-0.25]), f\"{absorption_probability[k,1]:.2f}\", color = \"red\", fontsize=7)\n",
    "\n",
    "    #Labyrinth contour\n",
    "    ax.plot([-0.5,-0.5],[-0.5,N-1+0.5], \"black\")\n",
    "    ax.plot([N-1+0.5,-0.5],[N-1+0.5,N-1+0.5], \"black\")\n",
    "    ax.plot([-0.5,N-1+0.5], [-0.5,-0.5], \"black\")\n",
    "    ax.plot([N-1+0.5,N-1+0.5],[N-1+0.5,-0.5], \"black\")\n",
    "\n",
    "    if walls:\n",
    "        for k in range(len(horizontal_walls[0])):\n",
    "            k1 = horizontal_walls[0][k]\n",
    "            k2 = horizontal_walls[1][k]\n",
    "            if graph_matrix[k1,k2] == 0:\n",
    "                x1,y1 = to_position(k1)\n",
    "                x2,y2 = to_position(k2)\n",
    "                ax.plot([x1+0.5]*2,[y1-0.5,y2+0.5], \"black\")\n",
    "\n",
    "        for k in range(len(vertical_walls[0])):\n",
    "            k1 = vertical_walls[0][k]\n",
    "            k2 = vertical_walls[1][k]\n",
    "            if graph_matrix[k1,k2] == 0:\n",
    "                x1,y1 = to_position(k1)\n",
    "                x2,y2 = to_position(k2)\n",
    "                ax.plot([x1-0.5,x2+0.5],[y1-0.5]*2, \"black\")\n",
    "    plt.show()\n",
    "    return ax"
   ]
  },
  {
   "cell_type": "code",
   "execution_count": 938,
   "metadata": {},
   "outputs": [],
   "source": [
    "def button_type(k):\n",
    "    i,j = (k%(2*N-1),int((k-k%(2*N-1))/(2*N-1)))\n",
    "    if i%2 == 0 and j%2 == 0:\n",
    "        return 0\n",
    "    elif i%2 == 1 and j%2 == 0:\n",
    "        return 1\n",
    "    elif i%2 == 0 and j%2 == 1:\n",
    "        return 2\n",
    "    else:\n",
    "        return 3\n",
    "    \n",
    "def button_color(k, graph_matrix):\n",
    "    the_type = button_type(k)\n",
    "    i,j = (k%(2*N-1),(k-k%(2*N-1))/(2*N-1))\n",
    "    if the_type == 0:\n",
    "        node = int(i/2 + (N)*(j)/2)\n",
    "        if node == START_POSITION:\n",
    "            return \"green\"\n",
    "        elif node == END_POSITION1:\n",
    "            return \"deeppink\"\n",
    "        elif node == END_POSITION2:\n",
    "            return \"red\"\n",
    "        else:\n",
    "            return \"skyblue\"\n",
    "    elif the_type == 1:\n",
    "        wall_type = list(zip(*horizontal_walls))\n",
    "        wall_number = int((i-1)/2 + (N-1)* j/2)\n",
    "        k1,k2 = wall_type[wall_number]\n",
    "    elif the_type == 2:\n",
    "        wall_type = list(zip(*vertical_walls))\n",
    "        wall_number = int(i/2 + (N)*(j-1)/2)\n",
    "        k1,k2 = wall_type[wall_number]\n",
    "    else:\n",
    "        return \"black\"\n",
    "    color = \"skyblue\" if graph_matrix[k1,k2] == 1 else \"black\"\n",
    "    return color\n",
    "    \n",
    "def wallbutton_action(b, graph_matrix, buttons):\n",
    "    k = buttons.index(b)\n",
    "    the_type = button_type(k)\n",
    "    i,j = (k%(2*N-1),(k-k%(2*N-1))/(2*N-1))\n",
    "    if the_type == 1:\n",
    "        wall_type = list(zip(*horizontal_walls))\n",
    "        wall_number = int((i-1)/2 + (N-1)* j/2)\n",
    "        k1,k2 = wall_type[wall_number]\n",
    "    else:\n",
    "        wall_type = list(zip(*vertical_walls))\n",
    "        wall_number = int(i/2 + (N)*(j-1)/2)\n",
    "        k1,k2 = wall_type[wall_number]\n",
    "    graph_matrix[k1,k2] = 1 - graph_matrix[k1,k2]\n",
    "    graph_matrix[k2,k1] = 1 - graph_matrix[k2,k1]\n",
    "    color = \"skyblue\" if graph_matrix[k1,k2] == 1 else \"black\"\n",
    "    b.style.button_color = color\n",
    "    plot_labyrinth(graph_matrix, layout, time_labels=time_labels,absorption_labels=absorption_labels)\n",
    "\n",
    "def switch_variable(b, variable):\n",
    "    variable = bool(1 - variable)\n",
    "    plot_labyrinth(graph_matrix, layout)\n",
    "\n",
    "def initialize_buttons(buttons, graph_matrix):\n",
    "    for k in range((2*N-1)**2):\n",
    "        the_type = button_type(k)\n",
    "        if the_type == 1 or the_type == 2:\n",
    "            buttons[k].on_click(lambda b: wallbutton_action(b, graph_matrix, buttons))\n",
    "        elif the_type == 0:\n",
    "            i,j = (k%(2*N-1),(k-k%(2*N-1))/(2*N-1))\n",
    "            buttons[k].description = str(int(i/2 + (N)*(j)/2))"
   ]
  },
  {
   "cell_type": "code",
   "execution_count": 939,
   "metadata": {},
   "outputs": [
    {
     "data": {
      "image/png": "[encoded data removed]",
      "text/plain": [
       "<Figure size 640x480 with 1 Axes>"
      ]
     },
     "metadata": {},
     "output_type": "display_data"
    },
    {
     "data": {
      "text/plain": [
       "<Axes: >"
      ]
     },
     "execution_count": 939,
     "metadata": {},
     "output_type": "execute_result"
    }
   ],
   "source": [
    "buttons = [Button(layout=Layout(width='auto', height='auto'),style=ButtonStyle(button_color=button_color(k,graph_matrix))) for k in range((2*N-1)**2)]\n",
    "initialize_buttons(buttons,graph_matrix)\n",
    "buttons_grid = GridBox(children=buttons,\n",
    "        layout=Layout(\n",
    "            width='50%',\n",
    "            grid_template_columns=f'{300/N}px 25px '*(N-1)+f'{300/N}px',\n",
    "            grid_template_rows=f'{300/N}px 25px '*(N-1)+f'{300/N}px',\n",
    "            grid_gap='0px 0px')\n",
    "       )\n",
    "\n",
    "plot_labyrinth(graph_matrix, layout, time_labels=time_labels, absorption_labels=absorption_labels)"
   ]
  },
  {
   "cell_type": "code",
   "execution_count": 940,
   "metadata": {},
   "outputs": [
    {
     "data": {
      "application/vnd.jupyter.widget-view+json": {
       "model_id": "09d75cd29a5d435eb7651e017bccc424",
       "version_major": 2,
       "version_minor": 0
      },
      "text/plain": [
       "GridBox(children=(Button(description='0', layout=Layout(height='auto', width='auto'), style=ButtonStyle(button…"
      ]
     },
     "execution_count": 940,
     "metadata": {},
     "output_type": "execute_result"
    }
   ],
   "source": [
    "buttons_grid"
   ]
  },
  {
   "cell_type": "code",
   "execution_count": 941,
   "metadata": {},
   "outputs": [],
   "source": [
    "# name = int(np.ceil(get_absorption_time(get_transition_matrix(graph_matrix))[24]))\n",
    "# plot_labyrinth(graph_matrix, layout).figure.savefig(f\"../pictures/{name}-1.png\",bbox_inches='tight')\n",
    "# plot_labyrinth(graph_matrix, layout, time_labels=True,).figure.savefig(f\"../pictures/{name}-2.png\",bbox_inches='tight')\n",
    "# plot_labyrinth(graph_matrix, layout, absorption_labels=True,).figure.savefig(f\"../pictures/{name}-3.png\",bbox_inches='tight')\n",
    "# plot_labyrinth(graph_matrix, layout, walls = False, edge_width=10).figure.savefig(f\"../pictures/{name}-4.png\",bbox_inches='tight')"
   ]
  },
  {
   "cell_type": "code",
   "execution_count": 942,
   "metadata": {},
   "outputs": [],
   "source": [
    "np.save(f'graph_matrix{N}.npy', graph_matrix)"
   ]
  }
 ],
 "metadata": {
  "kernelspec": {
   "display_name": "Python 3",
   "language": "python",
   "name": "python3"
  },
  "language_info": {
   "codemirror_mode": {
    "name": "ipython",
    "version": 3
   },
   "file_extension": ".py",
   "mimetype": "text/x-python",
   "name": "python",
   "nbconvert_exporter": "python",
   "pygments_lexer": "ipython3",
   "version": "3.12.2"
  }
 },
 "nbformat": 4,
 "nbformat_minor": 2
}
