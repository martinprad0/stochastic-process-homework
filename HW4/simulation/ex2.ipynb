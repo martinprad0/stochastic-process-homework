{
 "cells": [
  {
   "cell_type": "code",
   "execution_count": 128,
   "metadata": {},
   "outputs": [
    {
     "data": {
      "text/plain": [
       "[2, 3, 4]"
      ]
     },
     "execution_count": 128,
     "metadata": {},
     "output_type": "execute_result"
    }
   ],
   "source": [
    "import sympy as sp\n",
    "import numpy as np\n",
    "a,b,c,d,e  = sp.symbols(r\"\\alpha \\beta \\gamma \\delta \\varepsilon\", real = True)\n",
    "c = 1\n",
    "Gamma = np.matrix([\n",
    "    [a, 1-a, 0, 0 ,0],\n",
    "    [0, b, 1-b-e, 0, e],\n",
    "    [1-c-d, 0, c, d, 0],\n",
    "    [0, 0, 0, 1, 0],\n",
    "    [0, 0, 0, 0, 1]\n",
    "])\n",
    "M = [k for k in range(5) if Gamma[k,k]==1]\n",
    "l = 4\n",
    "symbols = [a,b,c,d,e]\n",
    "\n",
    "\n",
    "\n",
    "Id = np.eye(5)\n",
    "A = Gamma-Id\n",
    "A[M] = np.eye(5)[M]\n",
    "def solution(l):\n",
    "    b = np.matrix(np.eye(5)[:,l]).T\n",
    "    system = sp.Matrix(np.hstack([A,b]))\n",
    "    return system.rref()[0].col(5)\n",
    "M"
   ]
  },
  {
   "cell_type": "code",
   "execution_count": 129,
   "metadata": {},
   "outputs": [
    {
     "data": {
      "text/latex": [
       "$\\displaystyle \\left[\\begin{matrix}\\frac{\\beta + \\varepsilon - 1}{\\beta - 1}\\\\\\frac{\\beta + \\varepsilon - 1}{\\beta - 1}\\\\1\\\\0\\\\0\\end{matrix}\\right]$"
      ],
      "text/plain": [
       "Matrix([\n",
       "[(\\beta + \\varepsilon - 1)/(\\beta - 1)],\n",
       "[(\\beta + \\varepsilon - 1)/(\\beta - 1)],\n",
       "[                                    1],\n",
       "[                                    0],\n",
       "[                                    0]])"
      ]
     },
     "metadata": {},
     "output_type": "display_data"
    },
    {
     "data": {
      "text/latex": [
       "$\\displaystyle \\left[\\begin{matrix}0\\\\0\\\\0\\\\1\\\\0\\end{matrix}\\right]$"
      ],
      "text/plain": [
       "Matrix([\n",
       "[0],\n",
       "[0],\n",
       "[0],\n",
       "[1],\n",
       "[0]])"
      ]
     },
     "metadata": {},
     "output_type": "display_data"
    },
    {
     "data": {
      "text/latex": [
       "$\\displaystyle \\left[\\begin{matrix}- \\frac{\\varepsilon}{\\beta - 1}\\\\- \\frac{\\varepsilon}{\\beta - 1}\\\\0\\\\0\\\\1\\end{matrix}\\right]$"
      ],
      "text/plain": [
       "Matrix([\n",
       "[-\\varepsilon/(\\beta - 1)],\n",
       "[-\\varepsilon/(\\beta - 1)],\n",
       "[                       0],\n",
       "[                       0],\n",
       "[                       1]])"
      ]
     },
     "metadata": {},
     "output_type": "display_data"
    }
   ],
   "source": [
    "for l in M:\n",
    "    display(sp.Matrix([sp.collect(sp.nsimplify(solution(l)[k]), symbols[l]) for k in range(5)]))"
   ]
  },
  {
   "cell_type": "code",
   "execution_count": 130,
   "metadata": {},
   "outputs": [
    {
     "name": "stdout",
     "output_type": "stream",
     "text": [
      "\\left[\\begin{matrix}\\frac{\\beta + \\varepsilon - 1}{\\beta - 1}\\\\\\frac{\\beta + \\varepsilon - 1}{\\beta - 1}\\\\1\\\\0\\\\0\\end{matrix}\\right]\n",
      "\\left[\\begin{matrix}0\\\\0\\\\0\\\\1\\\\0\\end{matrix}\\right]\n",
      "\\left[\\begin{matrix}- \\frac{\\varepsilon}{\\beta - 1}\\\\- \\frac{\\varepsilon}{\\beta - 1}\\\\0\\\\0\\\\1\\end{matrix}\\right]\n"
     ]
    }
   ],
   "source": [
    "for l in M:\n",
    "    sp.print_latex(sp.Matrix([sp.collect(sp.nsimplify(solution(l)[k]), symbols[l]) for k in range(5)]))"
   ]
  },
  {
   "cell_type": "code",
   "execution_count": 131,
   "metadata": {},
   "outputs": [
    {
     "data": {
      "text/latex": [
       "$\\displaystyle \\left[\\begin{matrix}1\\\\1\\\\1.0\\\\1.0\\\\1.0\\end{matrix}\\right]$"
      ],
      "text/plain": [
       "Matrix([\n",
       "[  1],\n",
       "[  1],\n",
       "[1.0],\n",
       "[1.0],\n",
       "[1.0]])"
      ]
     },
     "execution_count": 131,
     "metadata": {},
     "output_type": "execute_result"
    }
   ],
   "source": [
    "sum_of_solutions = sp.Matrix([0]*5)\n",
    "for k in M:\n",
    "    sum_of_solutions += solution(k)\n",
    "sp.simplify(sum_of_solutions)"
   ]
  }
 ],
 "metadata": {
  "kernelspec": {
   "display_name": "Python 3",
   "language": "python",
   "name": "python3"
  },
  "language_info": {
   "codemirror_mode": {
    "name": "ipython",
    "version": 3
   },
   "file_extension": ".py",
   "mimetype": "text/x-python",
   "name": "python",
   "nbconvert_exporter": "python",
   "pygments_lexer": "ipython3",
   "version": "3.12.2"
  }
 },
 "nbformat": 4,
 "nbformat_minor": 2
}
